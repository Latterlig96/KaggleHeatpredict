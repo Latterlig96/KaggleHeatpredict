{
 "cells": [
  {
   "cell_type": "code",
   "execution_count": 23,
   "metadata": {},
   "outputs": [
    {
     "name": "stdout",
     "output_type": "stream",
     "text": [
      "20216100 139773\n"
     ]
    }
   ],
   "source": [
    "import pandas as pd \n",
    "import numpy as np \n",
    "\n",
    "\n",
    "df_build_meta = pd.read_csv('./data/building_metadata.csv')\n",
    "df_test = pd.read_csv('./data/test.csv')\n",
    "df_train = pd.read_csv('./data/train.csv')\n",
    "df_weather_test = pd.read_csv('./data/weather_test.csv')\n",
    "df_weather_train = pd.read_csv('./data/weather_train.csv')"
   ]
  },
  {
   "cell_type": "markdown",
   "metadata": {},
   "source": [
    "# Spis cech dla train.csv:  \n",
    "# - building_id - klucz obcy dla ewentualnego mergowania \n",
    "# - Meter - zużycie ze względu na { 0 : chłodna woda , 1 : elektryczność , 2 : gaz , 3 : gorąca woda } \n",
    "# - Timestamp - czas dokonania pomiaru (choć nie jestem pewny) \n",
    "# - meter_reading - Target\n",
    "# Dane zostały zebrane w realnych warunkach dlatego możliwe jest występowanie błędów pomiarowych które mają wpływ na model \n",
    "# Spis cech dla building_meta.csv: \n",
    "# - site_id - Klucz obcy \n",
    "# - building_id - Klucz obcy dla mergowania z train.csv\n",
    "# - primary_use - Główna determinanta zużycia w danym budynku ( na jakie czynności pochłaniane jest najwięcej energii) \n",
    "# - Square_feet - Powierzchnia budynku \n",
    "# - year_built - Rok produkcji budynku \n",
    "# - floor_count - liczba pięter budynków ( Jest NaN) \n",
    "# Spis cech dla weather_train/test: \n",
    "# - site_id - Klucz_obcy \n",
    "# - Timestamp - Jeśli ta cecha definiuje kiedy został dokonany pomiar to czas jest tutaj przesunięty o rok \n",
    "# - air_temperature - temperatura powietrza ( Celsjusze)\n",
    "# - cloud_coverage - Wskaźnik zakrycia chmurami, oktanowa : 0-8 \n",
    "# - dew_temperature - temperatura rosy ? \n",
    "# - precip_depth_1h - opady atmosferyczne mierzone co godzine \n",
    "# - sea_level_pressure - ciśnienie w hPa\n",
    "# - wind_direction - kierunek wiatru \n",
    "# - wind_speed - predkość wiatru w m/s \n",
    "# Spis dla test.csv: \n",
    "# - row_id - wiersz do podsumowania \n",
    "# - building_id - Klucz obcy \n",
    "# - meter - target \n",
    "# - timestamp - czas "
   ]
  },
  {
   "cell_type": "code",
   "execution_count": null,
   "metadata": {},
   "outputs": [],
   "source": []
  }
 ],
 "metadata": {
  "kernelspec": {
   "display_name": "Python 3",
   "language": "python",
   "name": "python3"
  },
  "language_info": {
   "codemirror_mode": {
    "name": "ipython",
    "version": 3
   },
   "file_extension": ".py",
   "mimetype": "text/x-python",
   "name": "python",
   "nbconvert_exporter": "python",
   "pygments_lexer": "ipython3",
   "version": "3.7.3"
  }
 },
 "nbformat": 4,
 "nbformat_minor": 2
}
